{
 "cells": [
  {
   "cell_type": "code",
   "execution_count": 34,
   "id": "imposed-algorithm",
   "metadata": {},
   "outputs": [
    {
     "name": "stdout",
     "output_type": "stream",
     "text": [
      "Requirement already satisfied: python-dotenv in c:\\users\\agine\\appdata\\local\\programs\\python\\python37\\lib\\site-packages (0.20.0)\n"
     ]
    },
    {
     "name": "stderr",
     "output_type": "stream",
     "text": [
      "WARNING: You are using pip version 21.0.1; however, version 22.0.4 is available.\n",
      "You should consider upgrading via the 'c:\\users\\agine\\appdata\\local\\programs\\python\\python37\\python.exe -m pip install --upgrade pip' command.\n"
     ]
    }
   ],
   "source": [
    "!pip install python-dotenv"
   ]
  },
  {
   "cell_type": "code",
   "execution_count": 7,
   "id": "racial-particle",
   "metadata": {},
   "outputs": [
    {
     "name": "stdout",
     "output_type": "stream",
     "text": [
      "Collecting discord.py\n",
      "  Using cached discord.py-1.7.3-py3-none-any.whl (786 kB)\n",
      "Requirement already satisfied: aiohttp<3.8.0,>=3.6.0 in c:\\users\\agine\\appdata\\local\\programs\\python\\python37\\lib\\site-packages (from discord.py) (3.7.4.post0)\n",
      "Requirement already satisfied: yarl<2.0,>=1.0 in c:\\users\\agine\\appdata\\local\\programs\\python\\python37\\lib\\site-packages (from aiohttp<3.8.0,>=3.6.0->discord.py) (1.7.0)\n",
      "Requirement already satisfied: multidict<7.0,>=4.5 in c:\\users\\agine\\appdata\\local\\programs\\python\\python37\\lib\\site-packages (from aiohttp<3.8.0,>=3.6.0->discord.py) (5.2.0)\n",
      "Requirement already satisfied: typing-extensions>=3.6.5 in c:\\users\\agine\\appdata\\local\\programs\\python\\python37\\lib\\site-packages (from aiohttp<3.8.0,>=3.6.0->discord.py) (3.10.0.2)\n"
     ]
    },
    {
     "name": "stderr",
     "output_type": "stream",
     "text": [
      "WARNING: You are using pip version 21.0.1; however, version 22.0.4 is available.\n",
      "You should consider upgrading via the 'c:\\users\\agine\\appdata\\local\\programs\\python\\python37\\python.exe -m pip install --upgrade pip' command.\n"
     ]
    },
    {
     "name": "stdout",
     "output_type": "stream",
     "text": [
      "Requirement already satisfied: async-timeout<4.0,>=3.0 in c:\\users\\agine\\appdata\\local\\programs\\python\\python37\\lib\\site-packages (from aiohttp<3.8.0,>=3.6.0->discord.py) (3.0.1)\n",
      "Requirement already satisfied: attrs>=17.3.0 in c:\\users\\agine\\appdata\\local\\programs\\python\\python37\\lib\\site-packages (from aiohttp<3.8.0,>=3.6.0->discord.py) (20.2.0)\n",
      "Requirement already satisfied: chardet<5.0,>=2.0 in c:\\users\\agine\\appdata\\local\\programs\\python\\python37\\lib\\site-packages (from aiohttp<3.8.0,>=3.6.0->discord.py) (3.0.4)\n",
      "Requirement already satisfied: idna>=2.0 in c:\\users\\agine\\appdata\\local\\programs\\python\\python37\\lib\\site-packages (from yarl<2.0,>=1.0->aiohttp<3.8.0,>=3.6.0->discord.py) (2.10)\n",
      "Installing collected packages: discord.py\n",
      "Successfully installed discord.py-1.7.3\n"
     ]
    }
   ],
   "source": [
    "!pip install -U discord.py"
   ]
  },
  {
   "cell_type": "code",
   "execution_count": 1,
   "id": "alternative-fairy",
   "metadata": {},
   "outputs": [
    {
     "name": "stdout",
     "output_type": "stream",
     "text": [
      "Collecting web3\n",
      "  Downloading web3-5.28.0-py3-none-any.whl (499 kB)\n",
      "Requirement already satisfied: protobuf<4,>=3.10.0 in c:\\users\\agine\\appdata\\local\\programs\\python\\python37\\lib\\site-packages (from web3) (3.13.0)\n",
      "Collecting websockets<10,>=9.1\n",
      "  Using cached websockets-9.1-cp37-cp37m-win_amd64.whl (90 kB)\n",
      "Requirement already satisfied: typing-extensions<5,>=3.7.4.1 in c:\\users\\agine\\appdata\\local\\programs\\python\\python37\\lib\\site-packages (from web3) (3.10.0.2)\n",
      "Collecting ipfshttpclient==0.8.0a2\n",
      "  Using cached ipfshttpclient-0.8.0a2-py3-none-any.whl (82 kB)\n",
      "Collecting aiohttp<4,>=3.7.4.post0\n",
      "  Downloading aiohttp-3.8.1-cp37-cp37m-win_amd64.whl (551 kB)\n",
      "Requirement already satisfied: requests<3.0.0,>=2.16.0 in c:\\users\\agine\\appdata\\local\\programs\\python\\python37\\lib\\site-packages (from web3) (2.24.0)\n",
      "Requirement already satisfied: jsonschema<4.0.0,>=3.2.0 in c:\\users\\agine\\appdata\\local\\programs\\python\\python37\\lib\\site-packages (from web3) (3.2.0)\n",
      "Requirement already satisfied: pywin32>=223 in c:\\users\\agine\\appdata\\local\\programs\\python\\python37\\lib\\site-packages (from web3) (227)\n",
      "Requirement already satisfied: hexbytes<1.0.0,>=0.1.0 in c:\\users\\agine\\appdata\\local\\programs\\python\\python37\\lib\\site-packages (from web3) (0.2.2)\n",
      "Requirement already satisfied: eth-hash[pycryptodome]<1.0.0,>=0.2.0 in c:\\users\\agine\\appdata\\local\\programs\\python\\python37\\lib\\site-packages (from web3) (0.3.2)\n",
      "Requirement already satisfied: eth-utils<2.0.0,>=1.9.5 in c:\\users\\agine\\appdata\\local\\programs\\python\\python37\\lib\\site-packages (from web3) (1.10.0)\n",
      "Requirement already satisfied: eth-typing<3.0.0,>=2.0.0 in c:\\users\\agine\\appdata\\local\\programs\\python\\python37\\lib\\site-packages (from web3) (2.2.2)\n",
      "Requirement already satisfied: eth-abi<3.0.0,>=2.0.0b6 in c:\\users\\agine\\appdata\\local\\programs\\python\\python37\\lib\\site-packages (from web3) (2.1.1)\n",
      "Collecting eth-account<0.6.0,>=0.5.7\n",
      "  Downloading eth_account-0.5.7-py3-none-any.whl (101 kB)\n",
      "Collecting lru-dict<2.0.0,>=1.1.6\n",
      "  Using cached lru-dict-1.1.7.tar.gz (10 kB)\n",
      "Requirement already satisfied: multiaddr>=0.0.7 in c:\\users\\agine\\appdata\\local\\programs\\python\\python37\\lib\\site-packages (from ipfshttpclient==0.8.0a2->web3) (0.0.9)\n",
      "Collecting async-timeout<5.0,>=4.0.0a3\n",
      "  Downloading async_timeout-4.0.2-py3-none-any.whl (5.8 kB)\n",
      "Collecting frozenlist>=1.1.1\n",
      "  Downloading frozenlist-1.3.0-cp37-cp37m-win_amd64.whl (33 kB)\n",
      "Collecting charset-normalizer<3.0,>=2.0\n",
      "  Downloading charset_normalizer-2.0.12-py3-none-any.whl (39 kB)\n",
      "Requirement already satisfied: yarl<2.0,>=1.0 in c:\\users\\agine\\appdata\\local\\programs\\python\\python37\\lib\\site-packages (from aiohttp<4,>=3.7.4.post0->web3) (1.7.0)\n",
      "Collecting asynctest==0.13.0\n",
      "  Downloading asynctest-0.13.0-py3-none-any.whl (26 kB)\n",
      "Collecting aiosignal>=1.1.2\n",
      "  Downloading aiosignal-1.2.0-py3-none-any.whl (8.2 kB)\n",
      "Requirement already satisfied: multidict<7.0,>=4.5 in c:\\users\\agine\\appdata\\local\\programs\\python\\python37\\lib\\site-packages (from aiohttp<4,>=3.7.4.post0->web3) (5.2.0)\n",
      "Requirement already satisfied: attrs>=17.3.0 in c:\\users\\agine\\appdata\\local\\programs\\python\\python37\\lib\\site-packages (from aiohttp<4,>=3.7.4.post0->web3) (20.2.0)\n",
      "Requirement already satisfied: parsimonious<0.9.0,>=0.8.0 in c:\\users\\agine\\appdata\\local\\programs\\python\\python37\\lib\\site-packages (from eth-abi<3.0.0,>=2.0.0b6->web3) (0.8.1)\n",
      "Requirement already satisfied: eth-keyfile<0.6.0,>=0.5.0 in c:\\users\\agine\\appdata\\local\\programs\\python\\python37\\lib\\site-packages (from eth-account<0.6.0,>=0.5.7->web3) (0.5.1)\n",
      "Requirement already satisfied: rlp<3,>=1.0.0 in c:\\users\\agine\\appdata\\local\\programs\\python\\python37\\lib\\site-packages (from eth-account<0.6.0,>=0.5.7->web3) (2.0.1)\n",
      "Collecting eth-keys<0.4.0,>=0.3.4\n",
      "  Downloading eth_keys-0.3.4-py3-none-any.whl (21 kB)\n",
      "Requirement already satisfied: eth-rlp<2,>=0.1.2 in c:\\users\\agine\\appdata\\local\\programs\\python\\python37\\lib\\site-packages (from eth-account<0.6.0,>=0.5.7->web3) (0.2.1)\n",
      "Collecting bitarray<1.3.0,>=1.2.1\n",
      "  Using cached bitarray-1.2.2.tar.gz (48 kB)\n",
      "Requirement already satisfied: pycryptodome<4,>=3.6.6 in c:\\users\\agine\\appdata\\local\\programs\\python\\python37\\lib\\site-packages (from eth-hash[pycryptodome]<1.0.0,>=0.2.0->web3) (3.11.0)\n",
      "Requirement already satisfied: cytoolz<1.0.0,>=0.9.0 in c:\\users\\agine\\appdata\\local\\programs\\python\\python37\\lib\\site-packages (from eth-keyfile<0.6.0,>=0.5.0->eth-account<0.6.0,>=0.5.7->web3) (0.11.0)\n",
      "Requirement already satisfied: toolz>=0.8.0 in c:\\users\\agine\\appdata\\local\\programs\\python\\python37\\lib\\site-packages (from cytoolz<1.0.0,>=0.9.0->eth-keyfile<0.6.0,>=0.5.0->eth-account<0.6.0,>=0.5.7->web3) (0.11.1)\n",
      "Requirement already satisfied: six>=1.11.0 in c:\\users\\agine\\appdata\\local\\programs\\python\\python37\\lib\\site-packages (from jsonschema<4.0.0,>=3.2.0->web3) (1.15.0)\n",
      "Requirement already satisfied: setuptools in c:\\users\\agine\\appdata\\local\\programs\\python\\python37\\lib\\site-packages (from jsonschema<4.0.0,>=3.2.0->web3) (47.1.0)\n",
      "Requirement already satisfied: pyrsistent>=0.14.0 in c:\\users\\agine\\appdata\\local\\programs\\python\\python37\\lib\\site-packages (from jsonschema<4.0.0,>=3.2.0->web3) (0.17.3)\n",
      "Requirement already satisfied: importlib-metadata in c:\\users\\agine\\appdata\\local\\programs\\python\\python37\\lib\\site-packages (from jsonschema<4.0.0,>=3.2.0->web3) (1.7.0)\n",
      "Requirement already satisfied: base58 in c:\\users\\agine\\appdata\\local\\programs\\python\\python37\\lib\\site-packages (from multiaddr>=0.0.7->ipfshttpclient==0.8.0a2->web3) (2.1.0)\n",
      "Requirement already satisfied: netaddr in c:\\users\\agine\\appdata\\local\\programs\\python\\python37\\lib\\site-packages (from multiaddr>=0.0.7->ipfshttpclient==0.8.0a2->web3) (0.8.0)\n",
      "Requirement already satisfied: varint in c:\\users\\agine\\appdata\\local\\programs\\python\\python37\\lib\\site-packages (from multiaddr>=0.0.7->ipfshttpclient==0.8.0a2->web3) (1.0.2)\n",
      "Requirement already satisfied: urllib3!=1.25.0,!=1.25.1,<1.26,>=1.21.1 in c:\\users\\agine\\appdata\\local\\programs\\python\\python37\\lib\\site-packages (from requests<3.0.0,>=2.16.0->web3) (1.25.10)\n",
      "Requirement already satisfied: certifi>=2017.4.17 in c:\\users\\agine\\appdata\\local\\programs\\python\\python37\\lib\\site-packages (from requests<3.0.0,>=2.16.0->web3) (2020.6.20)\n",
      "Requirement already satisfied: idna<3,>=2.5 in c:\\users\\agine\\appdata\\local\\programs\\python\\python37\\lib\\site-packages (from requests<3.0.0,>=2.16.0->web3) (2.10)\n",
      "Requirement already satisfied: chardet<4,>=3.0.2 in c:\\users\\agine\\appdata\\local\\programs\\python\\python37\\lib\\site-packages (from requests<3.0.0,>=2.16.0->web3) (3.0.4)\n",
      "Requirement already satisfied: zipp>=0.5 in c:\\users\\agine\\appdata\\local\\programs\\python\\python37\\lib\\site-packages (from importlib-metadata->jsonschema<4.0.0,>=3.2.0->web3) (3.1.0)\n",
      "Building wheels for collected packages: bitarray, lru-dict\n",
      "  Building wheel for bitarray (setup.py): started\n",
      "  Building wheel for bitarray (setup.py): finished with status 'done'\n",
      "  Created wheel for bitarray: filename=bitarray-1.2.2-cp37-cp37m-win_amd64.whl size=55467 sha256=a45230fc60a4cc2def2ce7ea81c0972c943dcaacb5175e74f9695ddda51b8a97\n",
      "  Stored in directory: c:\\users\\agine\\appdata\\local\\pip\\cache\\wheels\\91\\c8\\a0\\4fb7317b7072d4b6a4366454e5bf229ff5bb9ba1f7de8ef90d\n",
      "  Building wheel for lru-dict (setup.py): started\n",
      "  Building wheel for lru-dict (setup.py): finished with status 'done'\n",
      "  Created wheel for lru-dict: filename=lru_dict-1.1.7-cp37-cp37m-win_amd64.whl size=12625 sha256=652b24d61609474ed79186514ae864184d93fb66540e94ba41b14771a76f2315\n",
      "  Stored in directory: c:\\users\\agine\\appdata\\local\\pip\\cache\\wheels\\9d\\0b\\4e\\aa8fec9833090cd52bcd76f92f9d95e1ee7b915c12093663b4\n",
      "Successfully built bitarray lru-dict\n",
      "Installing collected packages: frozenlist, eth-keys, charset-normalizer, bitarray, asynctest, async-timeout, aiosignal, websockets, lru-dict, ipfshttpclient, eth-account, aiohttp, web3\n",
      "  Attempting uninstall: eth-keys\n",
      "    Found existing installation: eth-keys 0.3.3\n",
      "    Uninstalling eth-keys-0.3.3:\n",
      "      Successfully uninstalled eth-keys-0.3.3\n",
      "Successfully installed aiohttp-3.8.1 aiosignal-1.2.0 async-timeout-4.0.2 asynctest-0.13.0 bitarray-1.2.2 charset-normalizer-2.0.12 eth-account-0.5.7 eth-keys-0.3.4 frozenlist-1.3.0 ipfshttpclient-0.8.0a2 lru-dict-1.1.7 web3-5.28.0 websockets-9.1\n"
     ]
    },
    {
     "name": "stderr",
     "output_type": "stream",
     "text": [
      "WARNING: You are using pip version 21.0.1; however, version 22.0.4 is available.\n",
      "You should consider upgrading via the 'c:\\users\\agine\\appdata\\local\\programs\\python\\python37\\python.exe -m pip install --upgrade pip' command.\n"
     ]
    }
   ],
   "source": [
    "!pip install web3"
   ]
  },
  {
   "cell_type": "code",
   "execution_count": 15,
   "id": "continent-proceeding",
   "metadata": {},
   "outputs": [],
   "source": [
    "from web3 import Web3"
   ]
  },
  {
   "cell_type": "code",
   "execution_count": 16,
   "id": "hearing-kenya",
   "metadata": {},
   "outputs": [],
   "source": [
    "from web3.auto import w3"
   ]
  },
  {
   "cell_type": "code",
   "execution_count": 18,
   "id": "hybrid-batch",
   "metadata": {},
   "outputs": [],
   "source": [
    "w3 = Web3(Web3.HTTPProvider('https://mainnet.infura.io/v3/92a1eaaddf8b4a5387b1b40a7556e0bc'))"
   ]
  },
  {
   "cell_type": "code",
   "execution_count": 19,
   "id": "decimal-owner",
   "metadata": {},
   "outputs": [
    {
     "data": {
      "text/plain": [
       "True"
      ]
     },
     "execution_count": 19,
     "metadata": {},
     "output_type": "execute_result"
    }
   ],
   "source": [
    "w3.isConnected()"
   ]
  },
  {
   "cell_type": "code",
   "execution_count": 20,
   "id": "corrected-roberts",
   "metadata": {},
   "outputs": [],
   "source": [
    "latest = w3.eth.get_block('latest', full_transactions = True)"
   ]
  },
  {
   "cell_type": "code",
   "execution_count": 24,
   "id": "capable-accessory",
   "metadata": {},
   "outputs": [],
   "source": [
    "for i in latest['transactions']:\n",
    "    if i['from'] in f[\"Wallet Address \"]:\n",
    "        print(i['from'])"
   ]
  },
  {
   "cell_type": "code",
   "execution_count": 1,
   "id": "religious-invasion",
   "metadata": {},
   "outputs": [],
   "source": [
    "import numpy as np\n",
    "import pandas as pd"
   ]
  },
  {
   "cell_type": "code",
   "execution_count": 25,
   "id": "studied-prison",
   "metadata": {},
   "outputs": [],
   "source": [
    "f = pd.read_csv('wallets.csv')"
   ]
  },
  {
   "cell_type": "code",
   "execution_count": 39,
   "id": "macro-venice",
   "metadata": {},
   "outputs": [],
   "source": [
    "import os\n",
    "import discord\n",
    "from dotenv import load_dotenv"
   ]
  },
  {
   "cell_type": "code",
   "execution_count": 54,
   "id": "statistical-translation",
   "metadata": {},
   "outputs": [
    {
     "name": "stdout",
     "output_type": "stream",
     "text": [
      "WalletTrackerTesting\n"
     ]
    }
   ],
   "source": [
    "# bot.py\n",
    "load_dotenv(override=True)\n",
    "TOKEN = os.getenv('DISCORD_TOKEN')\n",
    "GUILD = os.getenv('DISCORD_GUILD')\n",
    "\n",
    "print(GUILD)"
   ]
  },
  {
   "cell_type": "code",
   "execution_count": null,
   "id": "polish-celtic",
   "metadata": {
    "scrolled": true
   },
   "outputs": [],
   "source": [
    "# bot.py\n",
    "import os\n",
    "import random\n",
    "\n",
    "from discord.ext import commands\n",
    "from dotenv import load_dotenv\n",
    "\n",
    "load_dotenv()\n",
    "TOKEN = os.getenv('DISCORD_TOKEN')\n",
    "\n",
    "bot = commands.Bot(command_prefix='!')\n",
    "\n",
    "async def on_ready():\n",
    "    loopy.start()\n",
    "    \n",
    "@tasks.loop(seconds=10)\n",
    "async def your_loop_name():\n",
    "    alerts = bot.get_channel(958960792231903252)\n",
    "    await alerts.send(\"Welcome to the Wallet Tracker!\")\n",
    "    \n",
    "\n",
    "@bot.command(name='99')\n",
    "async def nine_nine(ctx):\n",
    "    brooklyn_99_quotes = [\n",
    "        'I\\'m the human form of the 💯 emoji.',\n",
    "        'Bingpot!',\n",
    "        (\n",
    "            'Cool. Cool cool cool cool cool cool cool, '\n",
    "            'no doubt no doubt no doubt no doubt.'\n",
    "        ),\n",
    "    ]\n",
    "\n",
    "    response = random.choice(brooklyn_99_quotes)\n",
    "    await ctx.send(response)\n",
    "    \n",
    "@bot.command(name='chupamelo')\n",
    "async def chupa(ctx):\n",
    "    await ctx.send('Mi lider. Te la wa chupa!')\n",
    " \n",
    "@bot\n",
    "async def trial(ctx):\n",
    "    alerts = bot.get_channel(958960792231903252)\n",
    "    await alerts.send(\"Welcome to the Wallet Tracker!\")\n",
    "    \n",
    "bot.run(TOKEN)"
   ]
  },
  {
   "cell_type": "code",
   "execution_count": 48,
   "id": "israeli-flexibility",
   "metadata": {},
   "outputs": [],
   "source": [
    "import nest_asyncio"
   ]
  },
  {
   "cell_type": "code",
   "execution_count": 49,
   "id": "interracial-float",
   "metadata": {},
   "outputs": [],
   "source": [
    "nest_asyncio.apply()"
   ]
  },
  {
   "cell_type": "code",
   "execution_count": null,
   "id": "portuguese-madonna",
   "metadata": {},
   "outputs": [],
   "source": []
  }
 ],
 "metadata": {
  "kernelspec": {
   "display_name": "Python 3",
   "language": "python",
   "name": "python3"
  },
  "language_info": {
   "codemirror_mode": {
    "name": "ipython",
    "version": 3
   },
   "file_extension": ".py",
   "mimetype": "text/x-python",
   "name": "python",
   "nbconvert_exporter": "python",
   "pygments_lexer": "ipython3",
   "version": "3.7.8"
  }
 },
 "nbformat": 4,
 "nbformat_minor": 5
}
