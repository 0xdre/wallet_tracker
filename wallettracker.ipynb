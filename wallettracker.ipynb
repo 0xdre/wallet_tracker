{
 "cells": [
  {
   "cell_type": "code",
   "execution_count": 3,
   "id": "imposed-algorithm",
   "metadata": {},
   "outputs": [
    {
     "name": "stdout",
     "output_type": "stream",
     "text": [
      "Collecting python-dotenv"
     ]
    },
    {
     "name": "stderr",
     "output_type": "stream",
     "text": [
      "WARNING: You are using pip version 20.0.2; however, version 22.0.4 is available.\n",
      "You should consider upgrading via the 'C:\\Users\\agine\\anaconda3\\python.exe -m pip install --upgrade pip' command.\n"
     ]
    },
    {
     "name": "stdout",
     "output_type": "stream",
     "text": [
      "\n",
      "  Using cached python_dotenv-0.20.0-py3-none-any.whl (17 kB)\n",
      "Installing collected packages: python-dotenv\n",
      "Successfully installed python-dotenv-0.20.0\n"
     ]
    }
   ],
   "source": [
    "!pip install python-dotenv"
   ]
  },
  {
   "cell_type": "code",
   "execution_count": 4,
   "id": "racial-particle",
   "metadata": {},
   "outputs": [
    {
     "name": "stdout",
     "output_type": "stream",
     "text": [
      "Collecting discord.py\n",
      "  Using cached discord.py-1.7.3-py3-none-any.whl (786 kB)\n",
      "Collecting aiohttp<3.8.0,>=3.6.0\n",
      "  Downloading aiohttp-3.7.4.post0-cp38-cp38-win_amd64.whl (635 kB)\n",
      "Requirement already satisfied, skipping upgrade: typing-extensions>=3.6.5 in c:\\users\\agine\\anaconda3\\lib\\site-packages (from aiohttp<3.8.0,>=3.6.0->discord.py) (3.7.4.3)\n",
      "Requirement already satisfied, skipping upgrade: chardet<5.0,>=2.0 in c:\\users\\agine\\appdata\\roaming\\python\\python38\\site-packages (from aiohttp<3.8.0,>=3.6.0->discord.py) (3.0.4)\n",
      "Requirement already satisfied, skipping upgrade: attrs>=17.3.0 in c:\\users\\agine\\anaconda3\\lib\\site-packages (from aiohttp<3.8.0,>=3.6.0->discord.py) (20.3.0)\n",
      "Collecting yarl<2.0,>=1.0\n",
      "  Downloading yarl-1.7.2-cp38-cp38-win_amd64.whl (122 kB)\n",
      "Collecting multidict<7.0,>=4.5\n",
      "  Downloading multidict-6.0.2-cp38-cp38-win_amd64.whl (28 kB)\n",
      "Collecting async-timeout<4.0,>=3.0\n",
      "  Using cached async_timeout-3.0.1-py3-none-any.whl (8.2 kB)\n",
      "Requirement already satisfied, skipping upgrade: idna>=2.0 in c:\\users\\agine\\appdata\\roaming\\python\\python38\\site-packages (from yarl<2.0,>=1.0->aiohttp<3.8.0,>=3.6.0->discord.py) (2.9)\n",
      "Installing collected packages: multidict, yarl, async-timeout, aiohttp, discord.py\n",
      "Successfully installed aiohttp-3.7.4.post0 async-timeout-3.0.1 discord.py-1.7.3 multidict-6.0.2 yarl-1.7.2\n"
     ]
    },
    {
     "name": "stderr",
     "output_type": "stream",
     "text": [
      "WARNING: You are using pip version 20.0.2; however, version 22.0.4 is available.\n",
      "You should consider upgrading via the 'C:\\Users\\agine\\anaconda3\\python.exe -m pip install --upgrade pip' command.\n"
     ]
    }
   ],
   "source": [
    "!pip install -U discord.py"
   ]
  },
  {
   "cell_type": "code",
   "execution_count": 5,
   "id": "alternative-fairy",
   "metadata": {},
   "outputs": [
    {
     "name": "stdout",
     "output_type": "stream",
     "text": [
      "Collecting web3\n",
      "  Using cached web3-5.28.0-py3-none-any.whl (499 kB)\n",
      "Collecting protobuf<4,>=3.10.0\n",
      "  Downloading protobuf-3.20.0-cp38-cp38-win_amd64.whl (904 kB)\n",
      "Requirement already satisfied: jsonschema<4.0.0,>=3.2.0 in c:\\users\\agine\\anaconda3\\lib\\site-packages (from web3) (3.2.0)\n",
      "Requirement already satisfied: requests<3.0.0,>=2.16.0 in c:\\users\\agine\\appdata\\roaming\\python\\python38\\site-packages (from web3) (2.23.0)\n",
      "Collecting eth-typing<3.0.0,>=2.0.0\n",
      "  Downloading eth_typing-2.3.0-py3-none-any.whl (6.2 kB)\n",
      "Collecting eth-utils<2.0.0,>=1.9.5\n",
      "  Using cached eth_utils-1.10.0-py3-none-any.whl (24 kB)\n",
      "Collecting ipfshttpclient==0.8.0a2\n",
      "  Using cached ipfshttpclient-0.8.0a2-py3-none-any.whl (82 kB)\n",
      "Collecting websockets<10,>=9.1\n",
      "  Downloading websockets-9.1-cp38-cp38-win_amd64.whl (90 kB)\n",
      "Collecting eth-account<0.6.0,>=0.5.7\n",
      "  Using cached eth_account-0.5.7-py3-none-any.whl (101 kB)\n",
      "Requirement already satisfied: aiohttp<4,>=3.7.4.post0 in c:\\users\\agine\\anaconda3\\lib\\site-packages (from web3) (3.7.4.post0)\n",
      "Requirement already satisfied: pywin32>=223; platform_system == \"Windows\" in c:\\users\\agine\\anaconda3\\lib\\site-packages (from web3) (227)\n",
      "Collecting hexbytes<1.0.0,>=0.1.0\n",
      "  Using cached hexbytes-0.2.2-py3-none-any.whl (6.1 kB)\n",
      "Collecting eth-abi<3.0.0,>=2.0.0b6\n",
      "  Using cached eth_abi-2.1.1-py3-none-any.whl (27 kB)\n",
      "Collecting eth-hash[pycryptodome]<1.0.0,>=0.2.0\n",
      "  Using cached eth_hash-0.3.2-py3-none-any.whl (8.8 kB)\n",
      "Collecting lru-dict<2.0.0,>=1.1.6\n",
      "  Using cached lru-dict-1.1.7.tar.gz (10 kB)\n",
      "Requirement already satisfied: setuptools in c:\\users\\agine\\anaconda3\\lib\\site-packages (from jsonschema<4.0.0,>=3.2.0->web3) (52.0.0.post20210125)\n",
      "Requirement already satisfied: six>=1.11.0 in c:\\users\\agine\\anaconda3\\lib\\site-packages (from jsonschema<4.0.0,>=3.2.0->web3) (1.15.0)\n",
      "Requirement already satisfied: attrs>=17.4.0 in c:\\users\\agine\\anaconda3\\lib\\site-packages (from jsonschema<4.0.0,>=3.2.0->web3) (20.3.0)\n",
      "Requirement already satisfied: pyrsistent>=0.14.0 in c:\\users\\agine\\anaconda3\\lib\\site-packages (from jsonschema<4.0.0,>=3.2.0->web3) (0.17.3)\n",
      "Requirement already satisfied: chardet<4,>=3.0.2 in c:\\users\\agine\\appdata\\roaming\\python\\python38\\site-packages (from requests<3.0.0,>=2.16.0->web3) (3.0.4)\n",
      "Requirement already satisfied: idna<3,>=2.5 in c:\\users\\agine\\appdata\\roaming\\python\\python38\\site-packages (from requests<3.0.0,>=2.16.0->web3) (2.9)\n",
      "Requirement already satisfied: certifi>=2017.4.17 in c:\\users\\agine\\appdata\\roaming\\python\\python38\\site-packages (from requests<3.0.0,>=2.16.0->web3) (2019.11.28)\n",
      "Requirement already satisfied: urllib3!=1.25.0,!=1.25.1,<1.26,>=1.21.1 in c:\\users\\agine\\appdata\\roaming\\python\\python38\\site-packages (from requests<3.0.0,>=2.16.0->web3) (1.25.8)\n",
      "Requirement already satisfied: cytoolz<1.0.0,>=0.10.1; implementation_name == \"cpython\" in c:\\users\\agine\\anaconda3\\lib\\site-packages (from eth-utils<2.0.0,>=1.9.5->web3) (0.11.0)\n",
      "Collecting multiaddr>=0.0.7\n",
      "  Using cached multiaddr-0.0.9-py2.py3-none-any.whl (16 kB)\n",
      "Collecting eth-keys<0.4.0,>=0.3.4\n",
      "  Using cached eth_keys-0.3.4-py3-none-any.whl (21 kB)\n",
      "Collecting eth-keyfile<0.6.0,>=0.5.0\n",
      "  Using cached eth_keyfile-0.5.1-py3-none-any.whl (8.3 kB)\n",
      "Collecting bitarray<1.3.0,>=1.2.1\n",
      "  Using cached bitarray-1.2.2.tar.gz (48 kB)\n",
      "Collecting eth-rlp<2,>=0.1.2\n",
      "  Downloading eth_rlp-0.3.0-py3-none-any.whl (5.0 kB)\n",
      "Collecting rlp<3,>=1.0.0\n"
     ]
    },
    {
     "name": "stderr",
     "output_type": "stream",
     "text": [
      "ERROR: eth-rlp 0.3.0 has requirement eth-utils<3,>=2.0.0, but you'll have eth-utils 1.10.0 which is incompatible.\n",
      "WARNING: You are using pip version 20.0.2; however, version 22.0.4 is available.\n",
      "You should consider upgrading via the 'C:\\Users\\agine\\anaconda3\\python.exe -m pip install --upgrade pip' command.\n"
     ]
    },
    {
     "name": "stdout",
     "output_type": "stream",
     "text": [
      "  Using cached rlp-2.0.1-py2.py3-none-any.whl (20 kB)\n",
      "Requirement already satisfied: async-timeout<4.0,>=3.0 in c:\\users\\agine\\anaconda3\\lib\\site-packages (from aiohttp<4,>=3.7.4.post0->web3) (3.0.1)\n",
      "Requirement already satisfied: typing-extensions>=3.6.5 in c:\\users\\agine\\anaconda3\\lib\\site-packages (from aiohttp<4,>=3.7.4.post0->web3) (3.7.4.3)\n",
      "Requirement already satisfied: yarl<2.0,>=1.0 in c:\\users\\agine\\anaconda3\\lib\\site-packages (from aiohttp<4,>=3.7.4.post0->web3) (1.7.2)\n",
      "Requirement already satisfied: multidict<7.0,>=4.5 in c:\\users\\agine\\anaconda3\\lib\\site-packages (from aiohttp<4,>=3.7.4.post0->web3) (6.0.2)\n",
      "Collecting parsimonious<0.9.0,>=0.8.0\n",
      "  Using cached parsimonious-0.8.1.tar.gz (45 kB)\n",
      "Collecting pycryptodome<4,>=3.6.6; extra == \"pycryptodome\"\n",
      "  Downloading pycryptodome-3.14.1-cp35-abi3-win_amd64.whl (1.8 MB)\n",
      "Requirement already satisfied: toolz>=0.8.0 in c:\\users\\agine\\anaconda3\\lib\\site-packages (from cytoolz<1.0.0,>=0.10.1; implementation_name == \"cpython\"->eth-utils<2.0.0,>=1.9.5->web3) (0.11.1)\n",
      "Collecting varint\n",
      "  Using cached varint-1.0.2.tar.gz (1.9 kB)\n",
      "Collecting netaddr\n",
      "  Using cached netaddr-0.8.0-py2.py3-none-any.whl (1.9 MB)\n",
      "Collecting base58\n",
      "  Downloading base58-2.1.1-py3-none-any.whl (5.6 kB)\n",
      "Building wheels for collected packages: lru-dict, bitarray, parsimonious, varint\n",
      "  Building wheel for lru-dict (setup.py): started\n",
      "  Building wheel for lru-dict (setup.py): finished with status 'done'\n",
      "  Created wheel for lru-dict: filename=lru_dict-1.1.7-cp38-cp38-win_amd64.whl size=12733 sha256=93b9792e9f0e41c1a318f29e985813b9db7d41364974b52a3e4359c9f5290b2a\n",
      "  Stored in directory: c:\\users\\agine\\appdata\\local\\pip\\cache\\wheels\\ab\\ed\\82\\d47759a6e2416fb78d6ee81c02a970a50d5dc6fc270b5a3242\n",
      "  Building wheel for bitarray (setup.py): started\n",
      "  Building wheel for bitarray (setup.py): finished with status 'done'\n",
      "  Created wheel for bitarray: filename=bitarray-1.2.2-cp38-cp38-win_amd64.whl size=55640 sha256=9ddf5ce8d6381a18b7e0e1857a0f0add91ed2c55a05a1424042e02bb61d93939\n",
      "  Stored in directory: c:\\users\\agine\\appdata\\local\\pip\\cache\\wheels\\41\\36\\95\\5b4eca059535a8400e8f4ca38f4883ea1801bb221fbd8170df\n",
      "  Building wheel for parsimonious (setup.py): started\n",
      "  Building wheel for parsimonious (setup.py): finished with status 'done'\n",
      "  Created wheel for parsimonious: filename=parsimonious-0.8.1-py3-none-any.whl size=42709 sha256=a113a0c960fe0f78283fcc6f76a5891b8a8785a67494e3185e8c5ce3492135de\n",
      "  Stored in directory: c:\\users\\agine\\appdata\\local\\pip\\cache\\wheels\\d8\\af\\19\\fb896f509a437aca2dcf62583e84d7fb2cd5b628c1564a609c\n",
      "  Building wheel for varint (setup.py): started\n",
      "  Building wheel for varint (setup.py): finished with status 'done'\n",
      "  Created wheel for varint: filename=varint-1.0.2-py3-none-any.whl size=1978 sha256=07156e9269c53310c888d8b69450fab52a88e5cd9be845f8eeeaff872dbd3680\n",
      "  Stored in directory: c:\\users\\agine\\appdata\\local\\pip\\cache\\wheels\\cc\\a8\\a4\\4d9e9807c27585dc974fc0e86a3e4345649d71f8a35906d1a8\n",
      "Successfully built lru-dict bitarray parsimonious varint\n",
      "Installing collected packages: protobuf, eth-typing, pycryptodome, eth-hash, eth-utils, varint, netaddr, base58, multiaddr, ipfshttpclient, websockets, parsimonious, eth-abi, eth-keys, eth-keyfile, bitarray, hexbytes, rlp, eth-rlp, eth-account, lru-dict, web3\n",
      "  Attempting uninstall: bitarray\n",
      "    Found existing installation: bitarray 1.9.2\n",
      "    Uninstalling bitarray-1.9.2:\n",
      "      Successfully uninstalled bitarray-1.9.2\n",
      "Successfully installed base58-2.1.1 bitarray-1.2.2 eth-abi-2.1.1 eth-account-0.5.7 eth-hash-0.3.2 eth-keyfile-0.5.1 eth-keys-0.3.4 eth-rlp-0.3.0 eth-typing-2.3.0 eth-utils-1.10.0 hexbytes-0.2.2 ipfshttpclient-0.8.0a2 lru-dict-1.1.7 multiaddr-0.0.9 netaddr-0.8.0 parsimonious-0.8.1 protobuf-3.20.0 pycryptodome-3.14.1 rlp-2.0.1 varint-1.0.2 web3-5.28.0 websockets-9.1\n"
     ]
    }
   ],
   "source": [
    "!pip install web3"
   ]
  },
  {
   "cell_type": "code",
   "execution_count": 74,
   "id": "continent-proceeding",
   "metadata": {},
   "outputs": [],
   "source": [
    "from web3 import Web3"
   ]
  },
  {
   "cell_type": "code",
   "execution_count": 75,
   "id": "hearing-kenya",
   "metadata": {},
   "outputs": [],
   "source": [
    "from web3.auto import w3"
   ]
  },
  {
   "cell_type": "code",
   "execution_count": 87,
   "id": "hybrid-batch",
   "metadata": {},
   "outputs": [],
   "source": [
    "w3 = Web3(Web3.HTTPProvider('https://mainnet.infura.io/v3/92a1eaaddf8b4a5387b1b40a7556e0bc'))"
   ]
  },
  {
   "cell_type": "code",
   "execution_count": 88,
   "id": "decimal-owner",
   "metadata": {},
   "outputs": [
    {
     "data": {
      "text/plain": [
       "True"
      ]
     },
     "execution_count": 88,
     "metadata": {},
     "output_type": "execute_result"
    }
   ],
   "source": [
    "w3.isConnected()"
   ]
  },
  {
   "cell_type": "code",
   "execution_count": 98,
   "id": "labeled-teens",
   "metadata": {},
   "outputs": [
    {
     "name": "stdout",
     "output_type": "stream",
     "text": [
      "{'Wallet Address': 'Wallet Name', '0x60fd35191ffa774e40934efb8ed34b2ec42da320': 'dingalingg', '0xba19ba5233b49794c33f01654e99a60e579e6f29': 'KRO', '0x0f0eae91990140c560d4156db4f00c854dc8f09e': 'VincentVanDough', '0xfa42d7f197f2793cca274186a4bdbf6ade5a8884': '3AnonsVault', '0xc46db2d89327d4c41eb81c43ed5e3dff111f9a8f': 'comfygang', '0x8dbbca57ea56290efa14d835bbfd34faf1d89753': 'VonMises', '0x668e961736454a2444adb485340cb7f0844ddd3d': 'Ares', '0x51636d9efbfb79631824dd6107d54f2dcf548359': 'bobo_dreams_of_nfts', '0x3c6aeff92b4b35c2e1b196b57d0f8ffb56884a17': 'manofdominance', '0xfd22004806a6846ea67ad883356be810f0428793': 'punk6529', '0x11360f0c5552443b33720a44408aba01a809905e': 'Shamdoo', '0x721931508df2764fd4f70c53da646cb8aed16ace': 'Coco__Bear', '0x98d365a3df9711603dd2ab52bf45b16796336726': 'kevwuzy', '0xad097fdcd58535250c59807d6683e0a6b688d6cc': 'tulipvault2', '0x5ea9681c3ab9b5739810f8b91ae65ec47de62119': 'Gennady', '0x60251579f5d1be1483ecac3519c9f0515dd9e023': 'ZhangKai666', '0xaf9e18cd797548220317fb459095c6afac5c33a7': 'Shatt-Vault', '0x65546f3419e360b6c62c88f8a060cd1c112bb80b': '0xSwombat', '0x7d4823262bd2c6e4fa78872f2587dda2a65828ed': 'ricky', '0x1d00ff1416cf4ed1ceaae24bfddf8e4997bc3507': 'banksfucks', '0xd197d72af51969dcb6bbf59622bea6a6ff6c9b3b': 'PaperD', '0x20b38b163765c3a9afef81781f06cae22fef3290': 'PaperD_TheVault', '0x6f35b0cfc58eb1e21eef8a439bbb0ce4c929d32a': 'Cry', '0x96a6913b41b99e0f20b27148677ccdeebb16ea06': 'darylmorey', '0xcfc9e5258a8773cea0440077779a17096a045bf2': 'economist', '0x59560854986b354d2dbc4368a09526dae0b244db': 'deconomist', '0x011ea68c15f4a8316da45c1e7844311cdd0ba149': 'GG14', '0xe8ac0cf3a9cea74e7653a863499e8e661440be13': 'imbatman', '0xe1d29d0a39962a9a8d2a297ebe82e166f8b8ec18': 'KeyboardMonkeyVault', '0xaB60Ba778D6D36fB20B688Ec9e6Ef8a6d3Fb0589': 'ClosingMedal950', '0x0Da6A4A175795E372378f56DB8bcFBB55ce9889E': 'kingDre', '0x2eE5d23E07C2a977603D7078EefFFFc7fEdEcAB5': 'Yayo'}\n"
     ]
    }
   ],
   "source": [
    "import csv\n",
    "\n",
    "wallets = {}\n",
    "\n",
    "with open('wallets.csv', mode='r') as inp:\n",
    "    reader = csv.reader(inp)\n",
    "    wallets = {rows[0]:rows[1] for rows in reader}\n",
    "print(wallets)"
   ]
  },
  {
   "cell_type": "code",
   "execution_count": 90,
   "id": "lesbian-albania",
   "metadata": {},
   "outputs": [
    {
     "name": "stdout",
     "output_type": "stream",
     "text": [
      "cuntfuck\n",
      "lili\n"
     ]
    }
   ],
   "source": [
    "#FOR TESTING\n",
    "latest = w3.eth.get_block(14567878, full_transactions = True)\n",
    "\n",
    "for tx in latest['transactions']:\n",
    "    astr = hex(int(tx['from'],16))\n",
    "    if (hex(int(tx['from'],16)) == hex(int('0x60fd35191ffa774e40934efb8ed34b2ec42da320',16))):\n",
    "        print(\"cuntfuck\")\n",
    "    if (hex(int(tx['from'], 16)) in wallets):\n",
    "        print('lili')\n",
    "    if (tx['from'] in wallets) and tx['value'] != 0:\n",
    "        print(wallets[tx['from']] + \" just spent \" + str(tx['value']*(10**(-18))) + \" on \" + str(tx['to']))\n",
    "        print('etherscan.io/tx/' + tx['hash'].hex())"
   ]
  },
  {
   "cell_type": "code",
   "execution_count": null,
   "id": "803f5887",
   "metadata": {},
   "outputs": [],
   "source": [
    "testydic = {}\n"
   ]
  },
  {
   "cell_type": "code",
   "execution_count": 56,
   "id": "imposed-notion",
   "metadata": {},
   "outputs": [],
   "source": [
    "import os\n",
    "import discord\n",
    "from dotenv import load_dotenv"
   ]
  },
  {
   "cell_type": "code",
   "execution_count": 15,
   "id": "statistical-translation",
   "metadata": {},
   "outputs": [],
   "source": [
    "# bot.py\n",
    "load_dotenv(override=True)\n",
    "TOKEN = os.getenv('DISCORD_TOKEN')\n",
    "GUILD = os.getenv('DISCORD_GUILD')"
   ]
  },
  {
   "cell_type": "code",
   "execution_count": 91,
   "id": "independent-ladder",
   "metadata": {},
   "outputs": [],
   "source": [
    "import nest_asyncio"
   ]
  },
  {
   "cell_type": "code",
   "execution_count": 92,
   "id": "aerial-alarm",
   "metadata": {},
   "outputs": [],
   "source": [
    "nest_asyncio.apply()"
   ]
  },
  {
   "cell_type": "code",
   "execution_count": 93,
   "id": "exclusive-andrew",
   "metadata": {},
   "outputs": [],
   "source": [
    "from discord.ext import tasks"
   ]
  },
  {
   "cell_type": "code",
   "execution_count": 116,
   "id": "polish-celtic",
   "metadata": {
    "scrolled": true
   },
   "outputs": [
    {
     "name": "stderr",
     "output_type": "stream",
     "text": [
      "Unhandled exception in internal background task 'loopy'.\n",
      "Traceback (most recent call last):\n",
      "  File \"C:\\Users\\agine\\anaconda3\\lib\\site-packages\\discord\\ext\\tasks\\__init__.py\", line 101, in _loop\n",
      "    await self.coro(*args, **kwargs)\n",
      "  File \"<ipython-input-116-717a12293908>\", line 54, in loopy\n",
      "    await jrcwallets.send(i)\n",
      "  File \"C:\\Users\\agine\\anaconda3\\lib\\site-packages\\discord\\abc.py\", line 1065, in send\n",
      "    data = await state.http.send_message(channel.id, content, tts=tts, embed=embed,\n",
      "  File \"C:\\Users\\agine\\anaconda3\\lib\\site-packages\\discord\\http.py\", line 248, in request\n",
      "    raise Forbidden(r, data)\n",
      "discord.errors.Forbidden: 403 Forbidden (error code: 50001): Missing Access\n",
      "Ignoring exception in command None:\n",
      "discord.ext.commands.errors.CommandNotFound: Command \"Gas\" is not found\n",
      "Ignoring exception in command None:\n",
      "discord.ext.commands.errors.CommandNotFound: Command \"gas\" is not found\n",
      "Ignoring exception in command None:\n",
      "discord.ext.commands.errors.CommandNotFound: Command \"gas\" is not found\n",
      "Ignoring exception in command None:\n",
      "discord.ext.commands.errors.CommandNotFound: Command \"gas\" is not found\n",
      "Ignoring exception in command None:\n",
      "discord.ext.commands.errors.CommandNotFound: Command \"mamamelo\" is not found\n",
      "Ignoring exception in command None:\n",
      "discord.ext.commands.errors.CommandNotFound: Command \"gas\" is not found\n",
      "Ignoring exception in command None:\n",
      "discord.ext.commands.errors.CommandNotFound: Command \"gas\" is not found\n",
      "Task exception was never retrieved\n",
      "future: <Task finished name='Task-20774' coro=<Loop._loop() done, defined at C:\\Users\\agine\\anaconda3\\lib\\site-packages\\discord\\ext\\tasks\\__init__.py:88> exception=Forbidden('403 Forbidden (error code: 50001): Missing Access')>\n",
      "Traceback (most recent call last):\n",
      "  File \"C:\\Users\\agine\\anaconda3\\lib\\asyncio\\tasks.py\", line 280, in __step\n",
      "    result = coro.send(None)\n",
      "  File \"C:\\Users\\agine\\anaconda3\\lib\\site-packages\\discord\\ext\\tasks\\__init__.py\", line 125, in _loop\n",
      "    raise exc\n",
      "  File \"C:\\Users\\agine\\anaconda3\\lib\\site-packages\\discord\\ext\\tasks\\__init__.py\", line 101, in _loop\n",
      "    await self.coro(*args, **kwargs)\n",
      "  File \"<ipython-input-116-717a12293908>\", line 54, in loopy\n",
      "    await jrcwallets.send(i)\n",
      "  File \"C:\\Users\\agine\\anaconda3\\lib\\site-packages\\discord\\abc.py\", line 1065, in send\n",
      "    data = await state.http.send_message(channel.id, content, tts=tts, embed=embed,\n",
      "  File \"C:\\Users\\agine\\anaconda3\\lib\\site-packages\\discord\\http.py\", line 248, in request\n",
      "    raise Forbidden(r, data)\n",
      "discord.errors.Forbidden: 403 Forbidden (error code: 50001): Missing Access\n"
     ]
    },
    {
     "ename": "RuntimeError",
     "evalue": "Cannot close a running event loop",
     "output_type": "error",
     "traceback": [
      "\u001b[1;31m---------------------------------------------------------------------------\u001b[0m",
      "\u001b[1;31mRuntimeError\u001b[0m                              Traceback (most recent call last)",
      "\u001b[1;32m<ipython-input-116-717a12293908>\u001b[0m in \u001b[0;36m<module>\u001b[1;34m\u001b[0m\n\u001b[0;32m    103\u001b[0m '''       \n\u001b[0;32m    104\u001b[0m \u001b[1;33m\u001b[0m\u001b[0m\n\u001b[1;32m--> 105\u001b[1;33m \u001b[0mbot\u001b[0m\u001b[1;33m.\u001b[0m\u001b[0mrun\u001b[0m\u001b[1;33m(\u001b[0m\u001b[0mTOKEN\u001b[0m\u001b[1;33m)\u001b[0m\u001b[1;33m\u001b[0m\u001b[1;33m\u001b[0m\u001b[0m\n\u001b[0m",
      "\u001b[1;32m~\\anaconda3\\lib\\site-packages\\discord\\client.py\u001b[0m in \u001b[0;36mrun\u001b[1;34m(self, *args, **kwargs)\u001b[0m\n\u001b[0;32m    717\u001b[0m             \u001b[0mfuture\u001b[0m\u001b[1;33m.\u001b[0m\u001b[0mremove_done_callback\u001b[0m\u001b[1;33m(\u001b[0m\u001b[0mstop_loop_on_completion\u001b[0m\u001b[1;33m)\u001b[0m\u001b[1;33m\u001b[0m\u001b[1;33m\u001b[0m\u001b[0m\n\u001b[0;32m    718\u001b[0m             \u001b[0mlog\u001b[0m\u001b[1;33m.\u001b[0m\u001b[0minfo\u001b[0m\u001b[1;33m(\u001b[0m\u001b[1;34m'Cleaning up tasks.'\u001b[0m\u001b[1;33m)\u001b[0m\u001b[1;33m\u001b[0m\u001b[1;33m\u001b[0m\u001b[0m\n\u001b[1;32m--> 719\u001b[1;33m             \u001b[0m_cleanup_loop\u001b[0m\u001b[1;33m(\u001b[0m\u001b[0mloop\u001b[0m\u001b[1;33m)\u001b[0m\u001b[1;33m\u001b[0m\u001b[1;33m\u001b[0m\u001b[0m\n\u001b[0m\u001b[0;32m    720\u001b[0m \u001b[1;33m\u001b[0m\u001b[0m\n\u001b[0;32m    721\u001b[0m         \u001b[1;32mif\u001b[0m \u001b[1;32mnot\u001b[0m \u001b[0mfuture\u001b[0m\u001b[1;33m.\u001b[0m\u001b[0mcancelled\u001b[0m\u001b[1;33m(\u001b[0m\u001b[1;33m)\u001b[0m\u001b[1;33m:\u001b[0m\u001b[1;33m\u001b[0m\u001b[1;33m\u001b[0m\u001b[0m\n",
      "\u001b[1;32m~\\anaconda3\\lib\\site-packages\\discord\\client.py\u001b[0m in \u001b[0;36m_cleanup_loop\u001b[1;34m(loop)\u001b[0m\n\u001b[0;32m     93\u001b[0m     \u001b[1;32mfinally\u001b[0m\u001b[1;33m:\u001b[0m\u001b[1;33m\u001b[0m\u001b[1;33m\u001b[0m\u001b[0m\n\u001b[0;32m     94\u001b[0m         \u001b[0mlog\u001b[0m\u001b[1;33m.\u001b[0m\u001b[0minfo\u001b[0m\u001b[1;33m(\u001b[0m\u001b[1;34m'Closing the event loop.'\u001b[0m\u001b[1;33m)\u001b[0m\u001b[1;33m\u001b[0m\u001b[1;33m\u001b[0m\u001b[0m\n\u001b[1;32m---> 95\u001b[1;33m         \u001b[0mloop\u001b[0m\u001b[1;33m.\u001b[0m\u001b[0mclose\u001b[0m\u001b[1;33m(\u001b[0m\u001b[1;33m)\u001b[0m\u001b[1;33m\u001b[0m\u001b[1;33m\u001b[0m\u001b[0m\n\u001b[0m\u001b[0;32m     96\u001b[0m \u001b[1;33m\u001b[0m\u001b[0m\n\u001b[0;32m     97\u001b[0m \u001b[1;32mclass\u001b[0m \u001b[0m_ClientEventTask\u001b[0m\u001b[1;33m(\u001b[0m\u001b[0masyncio\u001b[0m\u001b[1;33m.\u001b[0m\u001b[0mTask\u001b[0m\u001b[1;33m)\u001b[0m\u001b[1;33m:\u001b[0m\u001b[1;33m\u001b[0m\u001b[1;33m\u001b[0m\u001b[0m\n",
      "\u001b[1;32m~\\anaconda3\\lib\\asyncio\\selector_events.py\u001b[0m in \u001b[0;36mclose\u001b[1;34m(self)\u001b[0m\n\u001b[0;32m     87\u001b[0m     \u001b[1;32mdef\u001b[0m \u001b[0mclose\u001b[0m\u001b[1;33m(\u001b[0m\u001b[0mself\u001b[0m\u001b[1;33m)\u001b[0m\u001b[1;33m:\u001b[0m\u001b[1;33m\u001b[0m\u001b[1;33m\u001b[0m\u001b[0m\n\u001b[0;32m     88\u001b[0m         \u001b[1;32mif\u001b[0m \u001b[0mself\u001b[0m\u001b[1;33m.\u001b[0m\u001b[0mis_running\u001b[0m\u001b[1;33m(\u001b[0m\u001b[1;33m)\u001b[0m\u001b[1;33m:\u001b[0m\u001b[1;33m\u001b[0m\u001b[1;33m\u001b[0m\u001b[0m\n\u001b[1;32m---> 89\u001b[1;33m             \u001b[1;32mraise\u001b[0m \u001b[0mRuntimeError\u001b[0m\u001b[1;33m(\u001b[0m\u001b[1;34m\"Cannot close a running event loop\"\u001b[0m\u001b[1;33m)\u001b[0m\u001b[1;33m\u001b[0m\u001b[1;33m\u001b[0m\u001b[0m\n\u001b[0m\u001b[0;32m     90\u001b[0m         \u001b[1;32mif\u001b[0m \u001b[0mself\u001b[0m\u001b[1;33m.\u001b[0m\u001b[0mis_closed\u001b[0m\u001b[1;33m(\u001b[0m\u001b[1;33m)\u001b[0m\u001b[1;33m:\u001b[0m\u001b[1;33m\u001b[0m\u001b[1;33m\u001b[0m\u001b[0m\n\u001b[0;32m     91\u001b[0m             \u001b[1;32mreturn\u001b[0m\u001b[1;33m\u001b[0m\u001b[1;33m\u001b[0m\u001b[0m\n",
      "\u001b[1;31mRuntimeError\u001b[0m: Cannot close a running event loop"
     ]
    }
   ],
   "source": [
    "# bot.py\n",
    "import os\n",
    "import random\n",
    "\n",
    "from discord.ext import commands\n",
    "from dotenv import load_dotenv\n",
    "\n",
    "load_dotenv()\n",
    "TOKEN = os.getenv('DISCORD_TOKEN')\n",
    "\n",
    "bot = commands.Bot(command_prefix='!')\n",
    "\n",
    "@bot.event\n",
    "async def on_ready():\n",
    "    loopy.start()\n",
    "\n",
    "currNum = 0\n",
    "transactions = []\n",
    "    \n",
    "@tasks.loop(seconds=5)\n",
    "async def loopy():\n",
    "    testChannel = bot.get_channel(958960792231903252)\n",
    "    jrcwallets = bot.get_channel(959124154618089482)\n",
    "    global currNum\n",
    "    global transactions\n",
    "    \n",
    "    latest = w3.eth.get_block('latest', full_transactions = True)\n",
    "    newNum = latest['number']\n",
    "    \n",
    "\n",
    "   \n",
    "    if int(currNum) != int(newNum):\n",
    "\n",
    "        transactions = []\n",
    "        currNum = newNum\n",
    "        for tx in latest['transactions']:\n",
    "            #if (tx['value'] != 0) and (hex(int(tx['from'], 16)) in wallets):\n",
    "                \n",
    "                #transactions.append(wallets[hex(int(tx['from'], 16))] + \" just spent \" + str(tx['value']*(10**(-18))) + \"eth. View details on \" + 'http://etherscan.io/tx/' + tx['hash'].hex())\n",
    "                #await jrcwallets.send(wallets[tx['from']] + \" just spent \" + str(tx['value']*(10**(-18))) + \"eth. View details on \" + 'http://etherscan.io/tx/' + tx['hash'].hex())\n",
    "\n",
    "            if (tx['value'] != 0) and (tx['from'] in wallets):\n",
    "                \n",
    "                transactions.append(wallets[tx['from']] + \" just spent \" + str(tx['value']*(10**(-18))) + \"eth. View details on \" + 'http://etherscan.io/tx/' + tx['hash'].hex())\n",
    "                #await jrcwallets.send(wallets[tx['from']] + \" just spent \" + str(tx['value']*(10**(-18))) + \"eth. View details on \" + 'http://etherscan.io/tx/' + tx['hash'].hex())\n",
    "\n",
    "            #if (hex(int(tx['to'], 16)) in wallets) and (tx['value'] != 0):\n",
    "                \n",
    "                #transactions.append(wallets[hex(int(tx['to'], 16))] + \" just sold for \" + str(tx['value']*(10**(-18))) + \"eth. View details on \" + 'http://etherscan.io/tx/' + tx['hash'].hex())\n",
    "                #await jrcwallets.send(wallets[tx['to']] + \" just sold for \" + str(tx['value']*(10**(-18))) + \"eth. View details on \" + 'http://etherscan.io/tx/' + tx['hash'].hex())\n",
    "\n",
    "    for i in transactions:\n",
    "        await testChannel.send(i)\n",
    "        await jrcwallets.send(i)\n",
    "    transactions = []\n",
    "      \n",
    "\n",
    "@bot.command(name='chupamelo')\n",
    "async def chupa(ctx):\n",
    "    await ctx.send('Mi lider. Te la wa chupa!')\n",
    " \n",
    "@bot.command(name='crocs')\n",
    "async def crocs(ctx):\n",
    "    await ctx.send('pa la luna')\n",
    "    \n",
    "@bot.command(name='gm')\n",
    "async def gm(ctx):\n",
    "    await ctx.send('gm!')\n",
    "    \n",
    "@bot.command(name='sup')\n",
    "async def sup(ctx):\n",
    "    await ctx.send('sup!')\n",
    " \n",
    "@bot.command(name = 'allmaity')\n",
    "async def trial(ctx):\n",
    "    alerts = bot.get_channel(958960792231903252)\n",
    "    await alerts.send(\"Welcome to the Wallet Tracker!\")\n",
    "\n",
    "'''\n",
    "async def testy():\n",
    "    testChannel = bot.get_channel(958960792231903252)\n",
    "    jrcwallets = bot.get_channel(959124154618089482)\n",
    "    \n",
    "    num = 0\n",
    "    while True == True:\n",
    "        transactions = []\n",
    "\n",
    "        if int(num) == int(w3.eth.get_block('latest', full_transactions = True)['number']):\n",
    "            continue \n",
    "\n",
    "        latest = w3.eth.get_block('latest', full_transactions = True)\n",
    "        num = latest['number']\n",
    "\n",
    "        for tx in latest['transactions']:\n",
    "            if (tx['value'] != 0) and (tx['from'] in wallets):    \n",
    "                transactions.append(wallets[tx['from']] + \" just spent \" + str(tx['value']*(10**(-18))) + \"eth. View details on \" + 'http://etherscan.io/tx/' + tx['hash'].hex())\n",
    "\n",
    "\n",
    "        for i in transactions:\n",
    "            await testChannel.send(i)\n",
    "            await jrcwallets.send(i)\n",
    "            await asyncio.sleep(5)\n",
    "'''       \n",
    "    \n",
    "bot.run(TOKEN)"
   ]
  },
  {
   "cell_type": "code",
   "execution_count": 102,
   "id": "rising-arbor",
   "metadata": {},
   "outputs": [
    {
     "ename": "ValueError",
     "evalue": "invalid literal for int() with base 16: 'Wallet Address'",
     "output_type": "error",
     "traceback": [
      "\u001b[1;31m---------------------------------------------------------------------------\u001b[0m",
      "\u001b[1;31mValueError\u001b[0m                                Traceback (most recent call last)",
      "\u001b[1;32m<ipython-input-102-bceaddf9474d>\u001b[0m in \u001b[0;36m<module>\u001b[1;34m\u001b[0m\n\u001b[0;32m      1\u001b[0m \u001b[1;32mfor\u001b[0m \u001b[0mi\u001b[0m \u001b[1;32min\u001b[0m \u001b[0mwallets\u001b[0m\u001b[1;33m:\u001b[0m\u001b[1;33m\u001b[0m\u001b[1;33m\u001b[0m\u001b[0m\n\u001b[1;32m----> 2\u001b[1;33m     \u001b[0mprint\u001b[0m\u001b[1;33m(\u001b[0m\u001b[0mhex\u001b[0m\u001b[1;33m(\u001b[0m\u001b[0mint\u001b[0m\u001b[1;33m(\u001b[0m\u001b[0mi\u001b[0m\u001b[1;33m,\u001b[0m \u001b[1;36m16\u001b[0m\u001b[1;33m)\u001b[0m\u001b[1;33m)\u001b[0m\u001b[1;33m)\u001b[0m\u001b[1;33m\u001b[0m\u001b[1;33m\u001b[0m\u001b[0m\n\u001b[0m",
      "\u001b[1;31mValueError\u001b[0m: invalid literal for int() with base 16: 'Wallet Address'"
     ]
    }
   ],
   "source": [
    "for i in wallets:\n",
    "    print(hex(int(i, 16)))"
   ]
  },
  {
   "cell_type": "code",
   "execution_count": 112,
   "id": "5c0aeeec",
   "metadata": {},
   "outputs": [
    {
     "name": "stdout",
     "output_type": "stream",
     "text": [
      "0x2eE5d23E07C2a977603D7078EefFFFc7fEdEcAB5\n",
      "Yayo\n"
     ]
    }
   ],
   "source": [
    "black = w3.eth.get_block(14643690, full_transactions = True)\n",
    "\n",
    "for i in black['transactions']:\n",
    "    if i['from'] in wallets:\n",
    "        print(i['from'])\n",
    "        print(wallets[i['from']])\n",
    "    "
   ]
  },
  {
   "cell_type": "code",
   "execution_count": null,
   "id": "c94d0078",
   "metadata": {},
   "outputs": [],
   "source": []
  }
 ],
 "metadata": {
  "kernelspec": {
   "display_name": "Python 3",
   "language": "python",
   "name": "python3"
  },
  "language_info": {
   "codemirror_mode": {
    "name": "ipython",
    "version": 3
   },
   "file_extension": ".py",
   "mimetype": "text/x-python",
   "name": "python",
   "nbconvert_exporter": "python",
   "pygments_lexer": "ipython3",
   "version": "3.8.8"
  }
 },
 "nbformat": 4,
 "nbformat_minor": 5
}
